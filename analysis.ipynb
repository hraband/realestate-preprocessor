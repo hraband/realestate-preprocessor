{
 "cells": [
  {
   "cell_type": "code",
   "execution_count": 1,
   "id": "f06cdba7",
   "metadata": {},
   "outputs": [
    {
     "name": "stdout",
     "output_type": "stream",
     "text": [
      "Median sale price: CHF 1,000,000\n",
      "Median rent price: CHF 1,420 / month\n"
     ]
    }
   ],
   "source": [
    "import pandas as pd\n",
    "import re\n",
    "\n",
    "def parse_price(raw):\n",
    "    if isinstance(raw, (int, float)): return int(round(raw))\n",
    "    s = re.sub(r\"[^\\d\\.,]\", \"\", str(raw))\n",
    "    if \",\" in s and \".\" in s:\n",
    "        if s.find(\",\") < s.find(\".\"):\n",
    "            s = s.replace(\",\", \"\")\n",
    "        else:\n",
    "            s = s.replace(\".\", \"\").replace(\",\", \".\")\n",
    "    elif \",\" in s:\n",
    "        s = s.replace(\",\", \".\") if s.count(\",\") == 1 else s.replace(\",\", \"\")\n",
    "    elif s.count(\".\") > 1:\n",
    "        s = s.replace(\".\", \"\")\n",
    "    try:\n",
    "        return int(round(float(s)))\n",
    "    except:\n",
    "        return None\n",
    "\n",
    "# load raw data\n",
    "df = pd.read_json(\"data/raw_listings.jsonl\", lines=True)\n",
    "\n",
    "# parse prices into a numeric column\n",
    "df[\"numeric_price\"] = df[\"price\"].apply(parse_price)\n",
    "\n",
    "# split\n",
    "sale = df[df.sale_type == \"buy\"][\"numeric_price\"].dropna()\n",
    "rent = df[df.sale_type == \"rent\"][\"numeric_price\"].dropna()\n",
    "\n",
    "print(f\"Median sale price: CHF {int(sale.median()):,}\")\n",
    "print(f\"Median rent price: CHF {int(rent.median()):,} / month\")\n"
   ]
  }
 ],
 "metadata": {
  "kernelspec": {
   "display_name": "RE‑Preprocessor",
   "language": "python",
   "name": "realestate-preprocessor"
  },
  "language_info": {
   "codemirror_mode": {
    "name": "ipython",
    "version": 3
   },
   "file_extension": ".py",
   "mimetype": "text/x-python",
   "name": "python",
   "nbconvert_exporter": "python",
   "pygments_lexer": "ipython3",
   "version": "3.13.3"
  }
 },
 "nbformat": 4,
 "nbformat_minor": 5
}
