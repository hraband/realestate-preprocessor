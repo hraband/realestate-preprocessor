{
 "cells": [
  {
   "cell_type": "markdown",
   "id": "f100140f",
   "metadata": {},
   "source": [
    "# 📊 Data Analysis of Normalized Listings\n",
    "\n",
    "This notebook explores the key fields in our normalized data, quantifies missingness and outliers, and computes summary statistics to justify normalization choices and feature engineering.\n"
   ]
  },
  {
   "cell_type": "code",
   "execution_count": 32,
   "id": "8457430f",
   "metadata": {},
   "outputs": [
    {
     "name": "stdout",
     "output_type": "stream",
     "text": [
      "Total listings: 41689 rows, 19 columns\n",
      "\n"
     ]
    },
    {
     "data": {
      "text/html": [
       "<div>\n",
       "<style scoped>\n",
       "    .dataframe tbody tr th:only-of-type {\n",
       "        vertical-align: middle;\n",
       "    }\n",
       "\n",
       "    .dataframe tbody tr th {\n",
       "        vertical-align: top;\n",
       "    }\n",
       "\n",
       "    .dataframe thead th {\n",
       "        text-align: right;\n",
       "    }\n",
       "</style>\n",
       "<table border=\"1\" class=\"dataframe\">\n",
       "  <thead>\n",
       "    <tr style=\"text-align: right;\">\n",
       "      <th></th>\n",
       "      <th>id</th>\n",
       "      <th>platform</th>\n",
       "      <th>price</th>\n",
       "      <th>floor</th>\n",
       "      <th>rooms</th>\n",
       "      <th>living_space</th>\n",
       "      <th>plot_area</th>\n",
       "      <th>property_category</th>\n",
       "      <th>title</th>\n",
       "      <th>description</th>\n",
       "      <th>sale_type</th>\n",
       "      <th>crawl_datetime</th>\n",
       "      <th>published_datetime</th>\n",
       "      <th>seller_type</th>\n",
       "      <th>build_year</th>\n",
       "      <th>payment_interval</th>\n",
       "      <th>additional_costs</th>\n",
       "      <th>parking</th>\n",
       "      <th>property_location</th>\n",
       "    </tr>\n",
       "  </thead>\n",
       "  <tbody>\n",
       "    <tr>\n",
       "      <th>41684</th>\n",
       "      <td>352980</td>\n",
       "      <td>aclado</td>\n",
       "      <td>150</td>\n",
       "      <td>None</td>\n",
       "      <td>None</td>\n",
       "      <td>None</td>\n",
       "      <td>None</td>\n",
       "      <td>parking space</td>\n",
       "      <td>Einstellhallenplatz im Zentrum von Baar</td>\n",
       "      <td>Der Auto-Einstellplatz befindet sich im Parkha...</td>\n",
       "      <td>rent</td>\n",
       "      <td>2025-04-23 07:14:29.045589</td>\n",
       "      <td>None</td>\n",
       "      <td>company</td>\n",
       "      <td>NaN</td>\n",
       "      <td>per_month</td>\n",
       "      <td>None</td>\n",
       "      <td>NaN</td>\n",
       "      <td>{'street': 'UNG Oberdorfstrasse', 'zip': '6340...</td>\n",
       "    </tr>\n",
       "    <tr>\n",
       "      <th>41685</th>\n",
       "      <td>357708</td>\n",
       "      <td>aclado</td>\n",
       "      <td>80</td>\n",
       "      <td>None</td>\n",
       "      <td>None</td>\n",
       "      <td>None</td>\n",
       "      <td>None</td>\n",
       "      <td>parking space</td>\n",
       "      <td>Einstellplatz zu vermieten</td>\n",
       "      <td>Per sofort oder nach Vereinbarung vermieten wi...</td>\n",
       "      <td>rent</td>\n",
       "      <td>2025-04-23 07:14:31.391990</td>\n",
       "      <td>None</td>\n",
       "      <td>company</td>\n",
       "      <td>NaN</td>\n",
       "      <td>per_month</td>\n",
       "      <td>None</td>\n",
       "      <td>NaN</td>\n",
       "      <td>{'street': 'Sandgruebstrasse 5/7', 'zip': '819...</td>\n",
       "    </tr>\n",
       "    <tr>\n",
       "      <th>41686</th>\n",
       "      <td>358501</td>\n",
       "      <td>aclado</td>\n",
       "      <td>150</td>\n",
       "      <td>None</td>\n",
       "      <td>None</td>\n",
       "      <td>None</td>\n",
       "      <td>None</td>\n",
       "      <td>parking space</td>\n",
       "      <td>Einstellplätze in Uster zu vermieten</td>\n",
       "      <td>Wir vermieten per sofort oder nach Vereinbarun...</td>\n",
       "      <td>rent</td>\n",
       "      <td>2025-04-23 07:14:34.377345</td>\n",
       "      <td>None</td>\n",
       "      <td>company</td>\n",
       "      <td>NaN</td>\n",
       "      <td>per_month</td>\n",
       "      <td>None</td>\n",
       "      <td>NaN</td>\n",
       "      <td>{'street': 'Seestrasse 139-147', 'zip': '8610'...</td>\n",
       "    </tr>\n",
       "    <tr>\n",
       "      <th>41687</th>\n",
       "      <td>344027</td>\n",
       "      <td>aclado</td>\n",
       "      <td>30</td>\n",
       "      <td>None</td>\n",
       "      <td>None</td>\n",
       "      <td>None</td>\n",
       "      <td>None</td>\n",
       "      <td>parking space</td>\n",
       "      <td>Place de parc moto</td>\n",
       "      <td></td>\n",
       "      <td>rent</td>\n",
       "      <td>2025-04-23 07:14:37.367114</td>\n",
       "      <td>None</td>\n",
       "      <td>company</td>\n",
       "      <td>NaN</td>\n",
       "      <td>per_month</td>\n",
       "      <td>None</td>\n",
       "      <td>NaN</td>\n",
       "      <td>{'street': 'Peney 51/51A (EH)', 'zip': '1214',...</td>\n",
       "    </tr>\n",
       "    <tr>\n",
       "      <th>41688</th>\n",
       "      <td>321503</td>\n",
       "      <td>aclado</td>\n",
       "      <td>60</td>\n",
       "      <td>None</td>\n",
       "      <td>None</td>\n",
       "      <td>None</td>\n",
       "      <td>None</td>\n",
       "      <td>parking space</td>\n",
       "      <td>Motorradeinstellplatz in Pfäffikon ZH zu vermi...</td>\n",
       "      <td>An der Tumbelenstrasse 54-58 in Pfäffikon ZH v...</td>\n",
       "      <td>rent</td>\n",
       "      <td>2025-04-23 07:14:39.753924</td>\n",
       "      <td>None</td>\n",
       "      <td>company</td>\n",
       "      <td>NaN</td>\n",
       "      <td>per_month</td>\n",
       "      <td>None</td>\n",
       "      <td>NaN</td>\n",
       "      <td>{'street': 'Tumbelenstrasse 54 -58', 'zip': '8...</td>\n",
       "    </tr>\n",
       "  </tbody>\n",
       "</table>\n",
       "</div>"
      ],
      "text/plain": [
       "           id platform price floor rooms living_space plot_area  \\\n",
       "41684  352980   aclado   150  None  None         None      None   \n",
       "41685  357708   aclado    80  None  None         None      None   \n",
       "41686  358501   aclado   150  None  None         None      None   \n",
       "41687  344027   aclado    30  None  None         None      None   \n",
       "41688  321503   aclado    60  None  None         None      None   \n",
       "\n",
       "      property_category                                              title  \\\n",
       "41684     parking space            Einstellhallenplatz im Zentrum von Baar   \n",
       "41685     parking space                         Einstellplatz zu vermieten   \n",
       "41686     parking space               Einstellplätze in Uster zu vermieten   \n",
       "41687     parking space                                 Place de parc moto   \n",
       "41688     parking space  Motorradeinstellplatz in Pfäffikon ZH zu vermi...   \n",
       "\n",
       "                                             description sale_type  \\\n",
       "41684  Der Auto-Einstellplatz befindet sich im Parkha...      rent   \n",
       "41685  Per sofort oder nach Vereinbarung vermieten wi...      rent   \n",
       "41686  Wir vermieten per sofort oder nach Vereinbarun...      rent   \n",
       "41687                                                         rent   \n",
       "41688  An der Tumbelenstrasse 54-58 in Pfäffikon ZH v...      rent   \n",
       "\n",
       "                   crawl_datetime published_datetime seller_type  build_year  \\\n",
       "41684  2025-04-23 07:14:29.045589               None     company         NaN   \n",
       "41685  2025-04-23 07:14:31.391990               None     company         NaN   \n",
       "41686  2025-04-23 07:14:34.377345               None     company         NaN   \n",
       "41687  2025-04-23 07:14:37.367114               None     company         NaN   \n",
       "41688  2025-04-23 07:14:39.753924               None     company         NaN   \n",
       "\n",
       "      payment_interval additional_costs  parking  \\\n",
       "41684        per_month             None      NaN   \n",
       "41685        per_month             None      NaN   \n",
       "41686        per_month             None      NaN   \n",
       "41687        per_month             None      NaN   \n",
       "41688        per_month             None      NaN   \n",
       "\n",
       "                                       property_location  \n",
       "41684  {'street': 'UNG Oberdorfstrasse', 'zip': '6340...  \n",
       "41685  {'street': 'Sandgruebstrasse 5/7', 'zip': '819...  \n",
       "41686  {'street': 'Seestrasse 139-147', 'zip': '8610'...  \n",
       "41687  {'street': 'Peney 51/51A (EH)', 'zip': '1214',...  \n",
       "41688  {'street': 'Tumbelenstrasse 54 -58', 'zip': '8...  "
      ]
     },
     "execution_count": 32,
     "metadata": {},
     "output_type": "execute_result"
    }
   ],
   "source": [
    "# %% \n",
    "import pandas as pd\n",
    "import numpy as np\n",
    "import matplotlib.pyplot as plt\n",
    "\n",
    "# Load the normalized data\n",
    "df = pd.read_json(\"data/raw_listings.jsonl\", lines=True)\n",
    "\n",
    "# Show row count and first few rows\n",
    "print(f\"Total listings: {df.shape[0]} rows, {df.shape[1]} columns\\n\")\n",
    "df.tail()"
   ]
  },
  {
   "cell_type": "markdown",
   "id": "c186341b",
   "metadata": {},
   "source": [
    "## 1. Overview & Missingness\n",
    "\n",
    "Count how many missing or zero values remain in each column.\n"
   ]
  },
  {
   "cell_type": "code",
   "execution_count": 30,
   "id": "a66ca857",
   "metadata": {},
   "outputs": [
    {
     "data": {
      "text/html": [
       "<div>\n",
       "<style scoped>\n",
       "    .dataframe tbody tr th:only-of-type {\n",
       "        vertical-align: middle;\n",
       "    }\n",
       "\n",
       "    .dataframe tbody tr th {\n",
       "        vertical-align: top;\n",
       "    }\n",
       "\n",
       "    .dataframe thead th {\n",
       "        text-align: right;\n",
       "    }\n",
       "</style>\n",
       "<table border=\"1\" class=\"dataframe\">\n",
       "  <thead>\n",
       "    <tr style=\"text-align: right;\">\n",
       "      <th></th>\n",
       "      <th>na_count</th>\n",
       "      <th>zero_count</th>\n",
       "    </tr>\n",
       "  </thead>\n",
       "  <tbody>\n",
       "    <tr>\n",
       "      <th>plot_area</th>\n",
       "      <td>33819</td>\n",
       "      <td>NaN</td>\n",
       "    </tr>\n",
       "    <tr>\n",
       "      <th>parking</th>\n",
       "      <td>31741</td>\n",
       "      <td>0.0</td>\n",
       "    </tr>\n",
       "    <tr>\n",
       "      <th>additional_costs</th>\n",
       "      <td>27022</td>\n",
       "      <td>NaN</td>\n",
       "    </tr>\n",
       "    <tr>\n",
       "      <th>published_datetime</th>\n",
       "      <td>22167</td>\n",
       "      <td>NaN</td>\n",
       "    </tr>\n",
       "    <tr>\n",
       "      <th>build_year</th>\n",
       "      <td>21946</td>\n",
       "      <td>55.0</td>\n",
       "    </tr>\n",
       "    <tr>\n",
       "      <th>floor</th>\n",
       "      <td>18532</td>\n",
       "      <td>NaN</td>\n",
       "    </tr>\n",
       "    <tr>\n",
       "      <th>rooms</th>\n",
       "      <td>9656</td>\n",
       "      <td>NaN</td>\n",
       "    </tr>\n",
       "    <tr>\n",
       "      <th>payment_interval</th>\n",
       "      <td>7285</td>\n",
       "      <td>NaN</td>\n",
       "    </tr>\n",
       "    <tr>\n",
       "      <th>living_space</th>\n",
       "      <td>7077</td>\n",
       "      <td>NaN</td>\n",
       "    </tr>\n",
       "    <tr>\n",
       "      <th>description</th>\n",
       "      <td>205</td>\n",
       "      <td>NaN</td>\n",
       "    </tr>\n",
       "    <tr>\n",
       "      <th>property_category</th>\n",
       "      <td>13</td>\n",
       "      <td>NaN</td>\n",
       "    </tr>\n",
       "    <tr>\n",
       "      <th>title</th>\n",
       "      <td>11</td>\n",
       "      <td>NaN</td>\n",
       "    </tr>\n",
       "    <tr>\n",
       "      <th>seller_type</th>\n",
       "      <td>0</td>\n",
       "      <td>NaN</td>\n",
       "    </tr>\n",
       "    <tr>\n",
       "      <th>id</th>\n",
       "      <td>0</td>\n",
       "      <td>0.0</td>\n",
       "    </tr>\n",
       "    <tr>\n",
       "      <th>crawl_datetime</th>\n",
       "      <td>0</td>\n",
       "      <td>NaN</td>\n",
       "    </tr>\n",
       "    <tr>\n",
       "      <th>sale_type</th>\n",
       "      <td>0</td>\n",
       "      <td>NaN</td>\n",
       "    </tr>\n",
       "    <tr>\n",
       "      <th>platform</th>\n",
       "      <td>0</td>\n",
       "      <td>NaN</td>\n",
       "    </tr>\n",
       "    <tr>\n",
       "      <th>price</th>\n",
       "      <td>0</td>\n",
       "      <td>NaN</td>\n",
       "    </tr>\n",
       "    <tr>\n",
       "      <th>property_location</th>\n",
       "      <td>0</td>\n",
       "      <td>NaN</td>\n",
       "    </tr>\n",
       "  </tbody>\n",
       "</table>\n",
       "</div>"
      ],
      "text/plain": [
       "                    na_count  zero_count\n",
       "plot_area              33819         NaN\n",
       "parking                31741         0.0\n",
       "additional_costs       27022         NaN\n",
       "published_datetime     22167         NaN\n",
       "build_year             21946        55.0\n",
       "floor                  18532         NaN\n",
       "rooms                   9656         NaN\n",
       "payment_interval        7285         NaN\n",
       "living_space            7077         NaN\n",
       "description              205         NaN\n",
       "property_category         13         NaN\n",
       "title                     11         NaN\n",
       "seller_type                0         NaN\n",
       "id                         0         0.0\n",
       "crawl_datetime             0         NaN\n",
       "sale_type                  0         NaN\n",
       "platform                   0         NaN\n",
       "price                      0         NaN\n",
       "property_location          0         NaN"
      ]
     },
     "execution_count": 30,
     "metadata": {},
     "output_type": "execute_result"
    }
   ],
   "source": [
    "# %%\n",
    "missing = df.isna().sum().to_frame(\"na_count\")\n",
    "zeros   = (df.select_dtypes(include=[np.number]) == 0).sum().to_frame(\"zero_count\")\n",
    "pd.concat([missing, zeros], axis=1).sort_values(\"na_count\", ascending=False)\n"
   ]
  },
  {
   "cell_type": "code",
   "execution_count": 31,
   "id": "06ef2ad7",
   "metadata": {},
   "outputs": [
    {
     "data": {
      "text/plain": [
       "payment_interval\n",
       "monthly                      13791\n",
       "one_time                     11574\n",
       "None                          7285\n",
       "per_month                     5723\n",
       "per_year_per_square_meter     1957\n",
       "sell                           931\n",
       "monthly_per_square_meter       283\n",
       "yearlym2                        92\n",
       "per_year                        15\n",
       "one_time_per_square_meter       15\n",
       "yearly_per_square_meter         12\n",
       "sellm2                           9\n",
       "yearly                           1\n",
       "per_day                          1\n",
       "Name: count, dtype: int64"
      ]
     },
     "execution_count": 31,
     "metadata": {},
     "output_type": "execute_result"
    }
   ],
   "source": [
    "df[\"payment_interval\"].value_counts(dropna=False)"
   ]
  },
  {
   "cell_type": "markdown",
   "id": "c56158d7",
   "metadata": {},
   "source": [
    "## 2. Price Distributions\n",
    "\n",
    "Separate sale vs. rent to see typical ranges and tails.\n"
   ]
  },
  {
   "cell_type": "code",
   "execution_count": 17,
   "id": "2fd01896",
   "metadata": {},
   "outputs": [
    {
     "name": "stdout",
     "output_type": "stream",
     "text": [
      "Columns: ['id', 'platform', 'price', 'floor', 'rooms', 'living_space', 'plot_area', 'property_category', 'title', 'description', 'sale_type', 'crawl_datetime', 'published_datetime', 'seller_type', 'build_year', 'payment_interval', 'additional_costs', 'parking', 'property_location']\n"
     ]
    },
    {
     "data": {
      "image/png": "[encoded data removed]",
      "text/plain": [
       "<Figure size 1400x500 with 2 Axes>"
      ]
     },
     "metadata": {},
     "output_type": "display_data"
    },
    {
     "name": "stdout",
     "output_type": "stream",
     "text": [
      "Median sale price: CHF 1,000,000\n",
      "Median rent price: CHF 1500 / month\n"
     ]
    }
   ],
   "source": [
    "# %%\n",
    "import pandas as pd\n",
    "import re\n",
    "import numpy as np\n",
    "import matplotlib.pyplot as plt\n",
    "\n",
    "# 1. Load the raw listings so sale_type is still present\n",
    "df_raw = pd.read_json(\"data/raw_listings.jsonl\", lines=True)\n",
    "\n",
    "# 2. Inspect columns\n",
    "print(\"Columns:\", df_raw.columns.tolist())\n",
    "\n",
    "# 3. Helper to clean & parse price strings to float\n",
    "def to_numeric_price(x):\n",
    "    s = re.sub(r\"[^\\d\\.,]\", \"\", str(x))\n",
    "    # handle swiss thousands / comma decimals\n",
    "    if \".\" in s and \",\" in s and s.index(\".\") < s.index(\",\"):\n",
    "        s = s.replace(\".\", \"\").replace(\",\", \".\")\n",
    "    else:\n",
    "        s = s.replace(\",\", \"\")\n",
    "    try:\n",
    "        return float(s)\n",
    "    except:\n",
    "        return None\n",
    "\n",
    "# 4. Split sale vs rent and convert\n",
    "sale_prices = df_raw.loc[df_raw[\"sale_type\"] == \"buy\", \"price\"].map(to_numeric_price)\n",
    "rent_prices = df_raw.loc[df_raw[\"sale_type\"] == \"rent\", \"price\"].map(to_numeric_price)\n",
    "\n",
    "# 5. Plot distributions on a log scale\n",
    "sale_vals = sale_prices.dropna().loc[lambda x: x > 0]\n",
    "rent_vals = rent_prices.dropna().loc[lambda x: x > 0]\n",
    "\n",
    "sale_bins = np.logspace(np.log10(sale_vals.min()), np.log10(sale_vals.max()), 40)\n",
    "rent_bins = np.logspace(np.log10(rent_vals.min()), np.log10(rent_vals.max()), 40)\n",
    "\n",
    "fig, (ax1, ax2) = plt.subplots(1, 2, figsize=(14, 5))\n",
    "\n",
    "ax1.hist(sale_vals, bins=sale_bins)\n",
    "ax1.set_xscale('log')\n",
    "ax1.set_title(\"Sale Price Distribution (log scale)\")\n",
    "ax1.set_xlabel(\"Price (CHF)\")\n",
    "ax1.set_ylabel(\"Count\")\n",
    "\n",
    "ax2.hist(rent_vals, bins=rent_bins)\n",
    "ax2.set_xscale('log')\n",
    "ax2.set_title(\"Rent Price Distribution (log scale)\")\n",
    "ax2.set_xlabel(\"Rent (CHF/month)\")\n",
    "\n",
    "plt.tight_layout()\n",
    "plt.show()\n",
    "\n",
    "# 6. Print medians\n",
    "print(f\"Median sale price: CHF {int(sale_vals.median()):,}\")\n",
    "print(f\"Median rent price: CHF {rent_vals.median():.0f} / month\")\n",
    "\n"
   ]
  },
  {
   "cell_type": "markdown",
   "id": "6fa44bd9",
   "metadata": {},
   "source": [
    "The log‐scaled histograms show that most sale prices lie between CHF 200 000 and CHF 1 000 000, with a long tail stretching into the tens of millions for luxury properties. Rental rates mainly fall in the CHF 1 000–3 000/month range, with smaller studios below CHF 800 and high‐end units above CHF 10 000. Because both distributions span several orders of magnitude, a log transform makes the bulk of the data and the extreme values visible together. For modeling, it is advisable to log‐transform price features, cap or separately tag extreme outliers (e.g. above the 99th percentile), and clean up implausibly low values to reduce noise.  \n"
   ]
  },
  {
   "cell_type": "markdown",
   "id": "74346bd7",
   "metadata": {},
   "source": [
    "**Find median values:**\n"
   ]
  },
  {
   "cell_type": "code",
   "execution_count": 18,
   "id": "42e309f7",
   "metadata": {},
   "outputs": [
    {
     "name": "stdout",
     "output_type": "stream",
     "text": [
      "Median sale price: CHF 1,000,000\n",
      "Median rent price: CHF 1,420 / month\n"
     ]
    }
   ],
   "source": [
    "# %%\n",
    "print(\"Median sale price: CHF {:,}\".format(int(sale.median())))\n",
    "print(\"Median rent price: CHF {:,} / month\".format(int(rent.median())))\n"
   ]
  },
  {
   "cell_type": "markdown",
   "id": "e1bd1ddb",
   "metadata": {},
   "source": [
    "## Detecting  Price Formatting in a Random Sample\n"
   ]
  },
  {
   "cell_type": "code",
   "execution_count": 42,
   "id": "d00e216c",
   "metadata": {},
   "outputs": [
    {
     "name": "stdout",
     "output_type": "stream",
     "text": [
      "['266', '2’380’000.–', 'Loyer sur demande', '2220', '2305.0', \"CHF 1'100'000.-\", 'CHF\\xa0630.-/Monat + NK', '590.0', 'CHF 1,120,000', 'CHF 690,000', '80', '1650000', 'CHF 850', '3’950’000.–', '8’200’000.–', 'CHF 1,450,000', 'Prix sur demande', '2125', \"CHF 900'000.-\", \"CHF 1'470\"]\n",
      "0 / 1000 in sample use comma‑before‑dot formatting\n",
      "[]\n"
     ]
    }
   ],
   "source": [
    "# 1. Take an unfixed random sample of 1 000 listings\n",
    "sample = df_raw.sample(n=1000)\n",
    "\n",
    "# 2. Cast to string so you can eyeball the raw formats\n",
    "prices = sample[\"price\"].astype(str)\n",
    "\n",
    "# 3. Show the first 20 prices in that sample\n",
    "print(prices.head(20).to_list())\n",
    "\n",
    "# 4. Count how many look “US‑style” (comma before dot → thousands sep)\n",
    "us_mask = prices.str.contains(\",\") & prices.str.contains(r\"\\.\") & (\n",
    "    prices.str.find(\",\") < prices.str.find(\".\")\n",
    ")\n",
    "print(f\"{us_mask.sum()} / 1000 in sample use comma‑before‑dot formatting\")\n",
    "\n",
    "# 5. Peek at a few of those to see exactly what they look like\n",
    "print(prices[us_mask].head(10).to_list())\n"
   ]
  },
  {
   "cell_type": "code",
   "execution_count": 44,
   "id": "6e6bf7c1",
   "metadata": {},
   "outputs": [
    {
     "name": "stdout",
     "output_type": "stream",
     "text": [
      "Total listings: 41689\n",
      "'Prix sur demande' count: 3264 (7.83%)\n"
     ]
    }
   ],
   "source": [
    "# %%\n",
    "import pandas as pd\n",
    "\n",
    "# 1. Load the raw JSON‑lines file\n",
    "df = pd.read_json(\"data/raw_listings.jsonl\", lines=True)\n",
    "\n",
    "# 2. Count how many prices equal “Prix sur demande”\n",
    "mask = df[\"price\"].astype(str).str.strip() == \"Prix sur demande\"\n",
    "total = len(df)\n",
    "count = mask.sum()\n",
    "\n",
    "print(f\"Total listings: {total}\")\n",
    "print(f\"'Prix sur demande' count: {count} ({count/total:.2%})\")\n"
   ]
  },
  {
   "cell_type": "markdown",
   "id": "20319c3b",
   "metadata": {},
   "source": [
    "## 📊 Floor Analysis\n",
    "\n"
   ]
  },
  {
   "cell_type": "code",
   "execution_count": null,
   "id": "6feabb11",
   "metadata": {},
   "outputs": [
    {
     "name": "stdout",
     "output_type": "stream",
     "text": [
      "Top 20 raw `floor` values:\n",
      "floor\n",
      "MISSING            18532\n",
      "1                   2176\n",
      "1. Stock            2044\n",
      "2. Stock            1961\n",
      "2                   1860\n",
      "0                   1438\n",
      "3. Stock            1311\n",
      "3                   1215\n",
      "Erdgeschoss         1104\n",
      "rez-de-chaussée      925\n",
      "Ground floor         728\n",
      "1. floor             694\n",
      "4. Stock             651\n",
      "EG                   590\n",
      "2. floor             574\n",
      "4                    537\n",
      "1er étage            530\n",
      "2ème étage           433\n",
      "3. floor             393\n",
      "5. Stock             357\n",
      "Name: count, dtype: int64\n",
      "\n",
      "Missing `floor` entries: 18532 (44.5%)\n",
      "\n"
     ]
    },
    {
     "data": {
      "image/png": "[encoded data removed]",
      "text/plain": [
       "<Figure size 800x400 with 1 Axes>"
      ]
     },
     "metadata": {},
     "output_type": "display_data"
    }
   ],
   "source": [
    "# %%\n",
    "import pandas as pd\n",
    "import matplotlib.pyplot as plt\n",
    "from service.app.normalize import parse_floor  # adjust import path as needed\n",
    "\n",
    "# Load raw data\n",
    "df_raw = pd.read_json(\"data/raw_listings.jsonl\", lines=True)\n",
    "\n",
    "# 1. Examine raw floor values\n",
    "raw_floor_counts = df_raw[\"floor\"].fillna(\"MISSING\").value_counts()\n",
    "print(\"Top 20 raw `floor` values:\")\n",
    "print(raw_floor_counts.head(20))\n",
    "\n",
    "# 2. How many missing?\n",
    "missing_count = df_raw[\"floor\"].isna().sum()\n",
    "print(f\"\\nMissing `floor` entries: {missing_count} ({missing_count/len(df_raw):.1%})\\n\")\n",
    "\n",
    "# 3. Parse to numeric floor\n",
    "df_raw[\"floor_num\"] = df_raw[\"floor\"].map(parse_floor)\n",
    "\n",
    "# 4. Floor distribution\n",
    "floor_counts = df_raw[\"floor_num\"].value_counts().sort_index()\n",
    "plt.figure(figsize=(8,4))\n",
    "plt.bar(floor_counts.index.astype(str), floor_counts.values)\n",
    "plt.xticks(rotation=45)\n",
    "plt.title(\"Distribution of Parsed Floor Numbers\")\n",
    "plt.xlabel(\"Floor (numeric)\")\n",
    "plt.ylabel(\"Count of Listings\")\n",
    "plt.tight_layout()\n",
    "plt.show()\n"
   ]
  },
  {
   "cell_type": "markdown",
   "id": "39c77993",
   "metadata": {},
   "source": [
    "##  Inspect Raw `floor` Formats\n"
   ]
  },
  {
   "cell_type": "code",
   "execution_count": 53,
   "id": "80f3a0b2",
   "metadata": {},
   "outputs": [
    {
     "name": "stdout",
     "output_type": "stream",
     "text": [
      "First 20 samples: ['<NULL>', '<NULL>', '<NULL>', '<NULL>', '1', 'Ground floor ', '<NULL>', '1. floor ', '<NULL>', '<NULL>', '2. Stock', 'Ground floor ', '<NULL>', '2. Stock', '<NULL>', '3. floor ', '<NULL>', '1. Stock', '<NULL>', '2. Stock']\n",
      "813 / 1000 entries are non‑numeric formats\n",
      "Up to 100 unique floor values: ['-1', '-2. Stock', '0', '1', '1. Stock', '1. Untergeschoss', '1. floor ', '10. Stock', '13. Stock', '18ème étage', '1er étage', '2', '2 / 2', '2. Stock', '2. floor ', '2ème étage', '3', '3. Stock', '3. Untergeschoss', '3. floor ', '3ème étage', '4', '4. Stock', '4. floor ', '4ème étage', '5', '5. Stock', '5ème étage', '6', '6. Stock', '6. floor ', '7', '7. Stock', '8', '86ème étage', '8ème étage', '<NULL>', 'Basement ', 'Dachgeschoss', 'EG', 'Erdgeschoss', 'Gartengeschoss', 'Ground floor ', 'Zwischenetage/Mezzanin', 'rez-de-chaussée']\n"
     ]
    }
   ],
   "source": [
    "# 1. Take an unfixed random sample of 1 000 listings\n",
    "sample = df_raw.sample(n=1000)\n",
    "\n",
    "# 2. Cast `floor` to string (fill missing for clarity)\n",
    "floors = sample[\"floor\"].fillna(\"<NULL>\").astype(str)\n",
    "\n",
    "# 3. Show the first 20 floor values in that sample\n",
    "print(\"First 20 samples:\", floors.head(20).tolist())\n",
    "\n",
    "# 4. Count how many are not simple digits\n",
    "non_numeric = ~floors.str.fullmatch(r\"\\d+\")\n",
    "print(f\"{non_numeric.sum()} / 1000 entries are non‑numeric formats\")\n",
    "\n",
    "# 5. List up to 100 unique floor formats, alphabetically sorted\n",
    "unique_floors = sorted(set(floors))\n",
    "print(\"Up to 100 unique floor values:\", unique_floors[:100])\n"
   ]
  },
  {
   "cell_type": "markdown",
   "id": "7dd2343c",
   "metadata": {},
   "source": [
    "###  Living Space Analysis & Distribution\n"
   ]
  },
  {
   "cell_type": "code",
   "execution_count": 60,
   "id": "6034ffac",
   "metadata": {},
   "outputs": [
    {
     "data": {
      "image/png": "[encoded data removed]",
      "text/plain": [
       "<Figure size 1000x500 with 1 Axes>"
      ]
     },
     "metadata": {},
     "output_type": "display_data"
    }
   ],
   "source": [
    "\n",
    "import pandas as pd\n",
    "import matplotlib.pyplot as plt\n",
    "from service.app.normalize import parse_living_space  # adjust import path if needed\n",
    "\n",
    "# 1. Load raw listings\n",
    "df_raw = pd.read_json(\"data/raw_listings.jsonl\", lines=True)\n",
    "\n",
    "# 2. Parse living space into a numeric column\n",
    "df_raw[\"living_sqm\"] = df_raw[\"living_space\"].map(parse_living_space)\n",
    "\n",
    "# 3. Filter out missing or zero values\n",
    "valid = df_raw[\"living_sqm\"] > 0\n",
    "\n",
    "# 4. Plot a histogram of living space\n",
    "plt.figure(figsize=(10, 5))\n",
    "plt.hist(df_raw.loc[valid, \"living_sqm\"], bins=30, edgecolor=\"black\")\n",
    "plt.title(\"Distribution of Living Space (m²)\")\n",
    "plt.xlabel(\"Living space (m²)\")\n",
    "plt.ylabel(\"Number of listings\")\n",
    "plt.tight_layout()\n",
    "plt.show()\n",
    "\n",
    "\n"
   ]
  },
  {
   "cell_type": "code",
   "execution_count": 61,
   "id": "a96cca63",
   "metadata": {},
   "outputs": [
    {
     "name": "stdout",
     "output_type": "stream",
     "text": [
      "32647    213000.0\n",
      "40848     90000.0\n",
      "27577     50000.0\n",
      "30420     50000.0\n",
      "24896     40000.0\n",
      "26964     40000.0\n",
      "31607     30000.0\n",
      "26093     23300.0\n",
      "263       23000.0\n",
      "40563     23000.0\n",
      "Name: living_sqm, dtype: float64\n"
     ]
    }
   ],
   "source": [
    "# show the top 10 largest living_space values\n",
    "print(df_raw[\"living_sqm\"].nlargest(10))\n"
   ]
  },
  {
   "cell_type": "code",
   "execution_count": 62,
   "id": "d28bc452",
   "metadata": {},
   "outputs": [
    {
     "data": {
      "image/png": "[encoded data removed]",
      "text/plain": [
       "<Figure size 1000x500 with 1 Axes>"
      ]
     },
     "metadata": {},
     "output_type": "display_data"
    }
   ],
   "source": [
    "plt.figure(figsize=(10,5))\n",
    "plt.hist(df_raw.loc[df_raw[\"living_sqm\"]>0, \"living_sqm\"], \n",
    "         bins=50, log=True)\n",
    "plt.title(\"Living Space Distribution (log scale)\")\n",
    "plt.xlabel(\"Living space (m²)\")\n",
    "plt.ylabel(\"Count (log)\")\n",
    "plt.tight_layout()\n",
    "plt.show()\n"
   ]
  },
  {
   "cell_type": "code",
   "execution_count": 69,
   "id": "947f103e",
   "metadata": {},
   "outputs": [
    {
     "data": {
      "image/png": "[encoded data removed]",
      "text/plain": [
       "<Figure size 640x480 with 1 Axes>"
      ]
     },
     "metadata": {},
     "output_type": "display_data"
    }
   ],
   "source": [
    "capped = df_raw[\"living_sqm\"].clip(upper=500)\n",
    "plt.hist(capped[capped>0], bins=30, edgecolor=\"black\")\n",
    "plt.title(\"Living Space Distribution (500)\")\n",
    "plt.xlabel(\"Living space (m²)\")\n",
    "plt.ylabel(\"Count\")\n",
    "plt.show()\n"
   ]
  },
  {
   "cell_type": "code",
   "execution_count": 56,
   "id": "a4e78c94",
   "metadata": {},
   "outputs": [
    {
     "name": "stdout",
     "output_type": "stream",
     "text": [
      "['30', '~ 63 m²', '61.0', '73', '18', '42', '<NULL>', '<NULL>', '240', '100', '2230.0', '339.0', '700', '81 m²', '28', '111.0', '379', '<NULL>', '48.0', '197']\n",
      "397 / 1000 entries use non‑numeric formats\n",
      "['10.6 m²', '100\\r\\nm²', '100 m²', '101\\r\\nm²', '102\\r\\nm²', '102 m²', '103\\r\\nm²', '103 m²', '103.2 m²', '104\\r\\nm²']\n"
     ]
    }
   ],
   "source": [
    "# %%\n",
    "# 1. Take an unfixed random sample of 1 000 listings\n",
    "sample = df_raw.sample(n=1000)\n",
    "\n",
    "# 2. Cast `living_space` to string (fill missing for clarity)\n",
    "spaces = sample[\"living_space\"].fillna(\"<NULL>\").astype(str)\n",
    "\n",
    "# 3. Show the first 20 values in that sample\n",
    "print(spaces.head(20).tolist())\n",
    "\n",
    "# 4. Identify entries that are not simple numbers (e.g., \"90 m²\", \"ca. 100\")\n",
    "non_numeric = ~spaces.str.fullmatch(r\"\\d+(\\.\\d+)?\")\n",
    "print(f\"{non_numeric.sum()} / 1000 entries use non‑numeric formats\")\n",
    "\n",
    "# 5. Peek at some of those to see the variety\n",
    "print(sorted(set(spaces[non_numeric]))[:10])\n"
   ]
  },
  {
   "cell_type": "markdown",
   "id": "c43065e1",
   "metadata": {},
   "source": [
    "## Property Category Mapping & “Other” Bucket Analysis\n",
    "\n",
    "This cell samples raw `property_category` values, applies the `map_category` function, and inspects the listings that were mapped to `\"other\"`. It helps identify missing keywords and edge cases that may need heuristic or model‑based improvements.\n",
    "\n"
   ]
  },
  {
   "cell_type": "code",
   "execution_count": 71,
   "id": "0039567d",
   "metadata": {},
   "outputs": [
    {
     "name": "stdout",
     "output_type": "stream",
     "text": [
      "First 20 raw categories: ['wohnung', 'apartment', 'apartments', 'apartment', 'house', 'maison', 'apartment', 'buro-gewerbe-industrie', 'buro-gewerbe-industrie', 'commercial property', 'wohnung', 'shared', 'buro-gewerbe-industrie', 'apartments', 'apartments', 'house', 'apartment', 'apartment', 'wohnung', 'buro-gewerbe-industrie']\n",
      "\n",
      "491 / 1000 entries mapped to 'other'\n",
      "\n",
      "Sample of raw categories in 'other':\n",
      "['parkplatz', 'wohnung', 'parking space, garage', 'parkplatz', 'wohnung', 'wohnung', 'maison', 'haus', 'hotel-gastronomie', 'wohnung']\n"
     ]
    }
   ],
   "source": [
    "# 1. Take an unfixed random sample of 1 000 listings\n",
    "sample = df_raw.sample(n=1000)\n",
    "\n",
    "# 2. Extract raw `property_category` strings\n",
    "raw_cats = sample[\"property_category\"].fillna(\"<NULL>\").astype(str)\n",
    "\n",
    "# 3. Show the first 20 raw categories\n",
    "print(\"First 20 raw categories:\", raw_cats.head(20).tolist())\n",
    "\n",
    "# 4. Apply map_category and identify those mapping to \"other\"\n",
    "sample[\"mapped_cat\"] = sample[\"property_category\"].map(map_category).fillna(\"other\")\n",
    "others = sample.loc[sample[\"mapped_cat\"] == \"other\", \"property_category\"].fillna(\"<NULL>\").astype(str)\n",
    "\n",
    "print(f\"\\n{len(others)} / 1000 entries mapped to 'other'\")\n",
    "\n",
    "# 5. Peek at 10 random “other” values to see what’s inside\n",
    "print(\"\\nSample of raw categories in 'other':\")\n",
    "print(others.sample(10).tolist())\n"
   ]
  },
  {
   "cell_type": "markdown",
   "id": "2ee5ce47",
   "metadata": {},
   "source": [
    "## Text Cleaning & Statistical Overview"
   ]
  },
  {
   "cell_type": "code",
   "execution_count": 72,
   "id": "f0eb5bba",
   "metadata": {},
   "outputs": [
    {
     "name": "stdout",
     "output_type": "stream",
     "text": [
      "Sample raw titles:\n",
      "['Bright 2.5-Room Flat with Balcony, Terrace & Garden Access – Peaceful Location by the Forest in Thalwil', 'TEA ROOM MODERNE DANS LE VIEUX CAROUGE', 'Appart 4.5p, centre station, belle vue', 'Einstellplätze an zentraler Lage beim Bahnhof Altdorf', '[TAUSCHWOHNUNG] Wunderschöne Wohnung in der Werd', 'RESIDENZA HEDERA - PRIMA LOCAZIONE DI APPARTAMENTI MODERNI A TENERO-CONTRA', 'Wohntraum am Rande der Landwirtschaftszone – 5.5 Zimmer mit Aussicht', 'Hinweis, dies ist eine Tauschwohnung', 'Traumhafte Attikawohnung', '4.5-ZW à 101 m² im 1. OG'] \n",
      "\n"
     ]
    },
    {
     "data": {
      "image/png": "[encoded data removed]",
      "text/plain": [
       "<Figure size 800x400 with 1 Axes>"
      ]
     },
     "metadata": {},
     "output_type": "display_data"
    },
    {
     "data": {
      "image/png": "[encoded data removed]",
      "text/plain": [
       "<Figure size 800x400 with 1 Axes>"
      ]
     },
     "metadata": {},
     "output_type": "display_data"
    },
    {
     "name": "stdout",
     "output_type": "stream",
     "text": [
      "Top 10 words in cleaned titles:\n",
      "de: 9834\n",
      "5: 9364\n",
      "a: 7272\n",
      "in: 6601\n",
      "mit: 5201\n",
      "zimmer: 4388\n",
      "3: 4134\n",
      "wohnung: 4090\n",
      "appartement: 3798\n",
      "2: 3770\n"
     ]
    }
   ],
   "source": [
    "# %%\n",
    "import pandas as pd\n",
    "import matplotlib.pyplot as plt\n",
    "from service.app.normalize import clean_text\n",
    "from collections import Counter\n",
    "\n",
    "# 1. Load raw data\n",
    "df_raw = pd.read_json(\"data/raw_listings.jsonl\", lines=True)\n",
    "\n",
    "# 2. Sample a few raw titles\n",
    "titles_raw = df_raw[\"title\"].fillna(\"<NULL>\").astype(str)\n",
    "print(\"Sample raw titles:\")\n",
    "print(titles_raw.sample(10).tolist(), \"\\n\")\n",
    "\n",
    "# 3. Clean titles and compute length/word count\n",
    "df_raw[\"title_clean\"] = df_raw[\"title\"].map(clean_text)\n",
    "df_raw[\"title_length\"] = df_raw[\"title_clean\"].str.len()\n",
    "df_raw[\"title_word_count\"] = df_raw[\"title_clean\"].str.split().str.len()\n",
    "\n",
    "# 4. Plot distribution of title lengths\n",
    "plt.figure(figsize=(8,4))\n",
    "plt.hist(df_raw[\"title_length\"].dropna(), bins=40)\n",
    "plt.title(\"Distribution of Cleaned Title Lengths\")\n",
    "plt.xlabel(\"Number of Characters\")\n",
    "plt.ylabel(\"Count of Listings\")\n",
    "plt.tight_layout()\n",
    "plt.show()\n",
    "\n",
    "# 5. Plot distribution of title word counts\n",
    "plt.figure(figsize=(8,4))\n",
    "plt.hist(df_raw[\"title_word_count\"].dropna(), bins=20)\n",
    "plt.title(\"Distribution of Title Word Counts\")\n",
    "plt.xlabel(\"Number of Words\")\n",
    "plt.ylabel(\"Count of Listings\")\n",
    "plt.tight_layout()\n",
    "plt.show()\n",
    "\n",
    "# 6. Top 10 most common words in all titles\n",
    "all_words = \" \".join(df_raw[\"title_clean\"].fillna(\"\")).split()\n",
    "common_words = Counter(all_words).most_common(10)\n",
    "print(\"Top 10 words in cleaned titles:\")\n",
    "for word, freq in common_words:\n",
    "    print(f\"{word}: {freq}\")\n"
   ]
  },
  {
   "cell_type": "markdown",
   "id": "88c1865b",
   "metadata": {},
   "source": [
    "## Price per m²\n",
    "\n",
    "Check how `price_per_sqm` behaves and where outliers lie.\n"
   ]
  },
  {
   "cell_type": "code",
   "execution_count": 73,
   "id": "fa583e4f",
   "metadata": {},
   "outputs": [
    {
     "name": "stdout",
     "output_type": "stream",
     "text": [
      "Payment interval categories and counts:\n",
      "\n",
      "payment_interval\n",
      "monthly                      13791\n",
      "one_time                     11574\n",
      "<NULL>                        7285\n",
      "per_month                     5723\n",
      "per_year_per_square_meter     1957\n",
      "sell                           931\n",
      "monthly_per_square_meter       283\n",
      "yearlym2                        92\n",
      "per_year                        15\n",
      "one_time_per_square_meter       15\n",
      "yearly_per_square_meter         12\n",
      "sellm2                           9\n",
      "yearly                           1\n",
      "per_day                          1\n",
      "Name: count, dtype: int64\n"
     ]
    }
   ],
   "source": [
    "# %%\n",
    "import pandas as pd\n",
    "\n",
    "# 1. Load the raw listings\n",
    "df_raw = pd.read_json(\"data/raw_listings.jsonl\", lines=True)\n",
    "\n",
    "# 2. Fill missing and count each category\n",
    "payment_counts = df_raw[\"payment_interval\"].fillna(\"<NULL>\").value_counts()\n",
    "\n",
    "# 3. Display\n",
    "print(\"Payment interval categories and counts:\\n\")\n",
    "print(payment_counts)\n"
   ]
  },
  {
   "cell_type": "code",
   "execution_count": 74,
   "id": "fe5dac73",
   "metadata": {},
   "outputs": [
    {
     "name": "stdout",
     "output_type": "stream",
     "text": [
      "Counts of payment intervals, split by sale vs. rent:\n",
      "\n"
     ]
    },
    {
     "data": {
      "text/html": [
       "<div>\n",
       "<style scoped>\n",
       "    .dataframe tbody tr th:only-of-type {\n",
       "        vertical-align: middle;\n",
       "    }\n",
       "\n",
       "    .dataframe tbody tr th {\n",
       "        vertical-align: top;\n",
       "    }\n",
       "\n",
       "    .dataframe thead th {\n",
       "        text-align: right;\n",
       "    }\n",
       "</style>\n",
       "<table border=\"1\" class=\"dataframe\">\n",
       "  <thead>\n",
       "    <tr style=\"text-align: right;\">\n",
       "      <th>payment_interval</th>\n",
       "      <th>&lt;NULL&gt;</th>\n",
       "      <th>monthly</th>\n",
       "      <th>monthly_per_square_meter</th>\n",
       "      <th>one_time</th>\n",
       "      <th>one_time_per_square_meter</th>\n",
       "      <th>per_day</th>\n",
       "      <th>per_month</th>\n",
       "      <th>per_year</th>\n",
       "      <th>per_year_per_square_meter</th>\n",
       "      <th>sell</th>\n",
       "      <th>sellm2</th>\n",
       "      <th>yearly</th>\n",
       "      <th>yearly_per_square_meter</th>\n",
       "      <th>yearlym2</th>\n",
       "    </tr>\n",
       "    <tr>\n",
       "      <th>sale_type</th>\n",
       "      <th></th>\n",
       "      <th></th>\n",
       "      <th></th>\n",
       "      <th></th>\n",
       "      <th></th>\n",
       "      <th></th>\n",
       "      <th></th>\n",
       "      <th></th>\n",
       "      <th></th>\n",
       "      <th></th>\n",
       "      <th></th>\n",
       "      <th></th>\n",
       "      <th></th>\n",
       "      <th></th>\n",
       "    </tr>\n",
       "  </thead>\n",
       "  <tbody>\n",
       "    <tr>\n",
       "      <th>buy</th>\n",
       "      <td>2250</td>\n",
       "      <td>1095</td>\n",
       "      <td>240</td>\n",
       "      <td>11574</td>\n",
       "      <td>15</td>\n",
       "      <td>0</td>\n",
       "      <td>0</td>\n",
       "      <td>0</td>\n",
       "      <td>0</td>\n",
       "      <td>931</td>\n",
       "      <td>9</td>\n",
       "      <td>0</td>\n",
       "      <td>0</td>\n",
       "      <td>0</td>\n",
       "    </tr>\n",
       "    <tr>\n",
       "      <th>rent</th>\n",
       "      <td>5035</td>\n",
       "      <td>12696</td>\n",
       "      <td>43</td>\n",
       "      <td>0</td>\n",
       "      <td>0</td>\n",
       "      <td>1</td>\n",
       "      <td>5723</td>\n",
       "      <td>15</td>\n",
       "      <td>1957</td>\n",
       "      <td>0</td>\n",
       "      <td>0</td>\n",
       "      <td>1</td>\n",
       "      <td>12</td>\n",
       "      <td>92</td>\n",
       "    </tr>\n",
       "  </tbody>\n",
       "</table>\n",
       "</div>"
      ],
      "text/plain": [
       "payment_interval  <NULL>  monthly  monthly_per_square_meter  one_time  \\\n",
       "sale_type                                                               \n",
       "buy                 2250     1095                       240     11574   \n",
       "rent                5035    12696                        43         0   \n",
       "\n",
       "payment_interval  one_time_per_square_meter  per_day  per_month  per_year  \\\n",
       "sale_type                                                                   \n",
       "buy                                      15        0          0         0   \n",
       "rent                                      0        1       5723        15   \n",
       "\n",
       "payment_interval  per_year_per_square_meter  sell  sellm2  yearly  \\\n",
       "sale_type                                                           \n",
       "buy                                       0   931       9       0   \n",
       "rent                                   1957     0       0       1   \n",
       "\n",
       "payment_interval  yearly_per_square_meter  yearlym2  \n",
       "sale_type                                            \n",
       "buy                                     0         0  \n",
       "rent                                   12        92  "
      ]
     },
     "metadata": {},
     "output_type": "display_data"
    }
   ],
   "source": [
    "# %%\n",
    "import pandas as pd\n",
    "\n",
    "# 1. Load raw listings\n",
    "df_raw = pd.read_json(\"data/raw_listings.jsonl\", lines=True)\n",
    "\n",
    "# 2. Fill missing\n",
    "df_raw[\"payment_interval\"] = df_raw[\"payment_interval\"].fillna(\"<NULL>\")\n",
    "\n",
    "# 3. Count by sale_type × payment_interval\n",
    "pivot = (\n",
    "    df_raw\n",
    "    .groupby([\"sale_type\", \"payment_interval\"])\n",
    "    .size()\n",
    "    .unstack(fill_value=0)\n",
    ")\n",
    "\n",
    "# 4. Display\n",
    "print(\"Counts of payment intervals, split by sale vs. rent:\\n\")\n",
    "display(pivot)\n"
   ]
  },
  {
   "cell_type": "code",
   "execution_count": 77,
   "id": "5116c33b",
   "metadata": {},
   "outputs": [
    {
     "data": {
      "image/png": "[encoded data removed]",
      "text/plain": [
       "<Figure size 800x300 with 1 Axes>"
      ]
     },
     "metadata": {},
     "output_type": "display_data"
    }
   ],
   "source": [
    "# %%\n",
    "import pandas as pd\n",
    "import numpy as np\n",
    "import matplotlib.pyplot as plt\n",
    "\n",
    "# 1. Load the normalized listings\n",
    "df_norm = pd.read_json(\"data/normalized_listings.jsonl\", lines=True)\n",
    "\n",
    "# 2. Pull out the positive price_per_sqm values\n",
    "pps = df_norm.loc[df_norm[\"price_per_sqm\"] > 0, \"price_per_sqm\"].to_numpy()\n",
    "\n",
    "# 3. Compute 5th & 95th percentiles, mean & median\n",
    "p5, p95 = np.percentile(pps, [5, 95])\n",
    "p_mean = pps.mean()\n",
    "p_med = np.median(pps)\n",
    "\n",
    "# 4. Draw a horizontal boxplot zoomed into the 5–95th percentile range\n",
    "fig, ax = plt.subplots(figsize=(8, 3))\n",
    "ax.boxplot(\n",
    "    pps,\n",
    "    vert=False,\n",
    "    notch=True,\n",
    "    showmeans=True,\n",
    "    meanline=True,\n",
    "    flierprops=dict(marker='o', markersize=4, alpha=0.6),\n",
    ")\n",
    "ax.set_xlim(p5, p95)\n",
    "\n",
    "# 5. Annotate median & mean\n",
    "ax.axvline(p_med, color='C1', linestyle='--', linewidth=1)\n",
    "ax.text(p_med, 1.08, f\"Median {p_med:.0f}\", ha=\"center\", color='C1', fontsize=9)\n",
    "\n",
    "ax.axvline(p_mean, color='C2', linestyle='-.', linewidth=1)\n",
    "ax.text(p_mean, 1.08, f\"Mean {p_mean:.0f}\", ha=\"center\", color='C2', fontsize=9)\n",
    "\n",
    "# 6. Polish aesthetics\n",
    "ax.set_title(\"Boxplot of Price per m² (5–95th percentile)\")\n",
    "ax.set_xlabel(\"CHF per m²\")\n",
    "ax.get_yaxis().set_visible(False)\n",
    "ax.grid(axis=\"x\", linestyle=\"--\", alpha=0.5)\n",
    "\n",
    "plt.tight_layout()\n",
    "plt.show()\n"
   ]
  },
  {
   "cell_type": "markdown",
   "id": "0ceb3cf3",
   "metadata": {},
   "source": [
    "The central box captures the 25th–75th percentiles, with most listings falling between about CHF 5 000–10 000/m². The median (orange dash) sits around CHF 7 000/m², while the mean (green dash‐dot) is near CHF 5 095/m², reflecting a right‐skew from expensive outliers. Whiskers extend to the 5th and 95th percentiles, intentionally trimming ultra‐luxury or erroneous entries that reach into the millions. To avoid these extremes dominating models, apply a log transform or cap values at the 99th percentile for robust feature scaling.\n"
   ]
  },
  {
   "cell_type": "markdown",
   "id": "9090f927",
   "metadata": {},
   "source": [
    "## 📅 Analysis of “Days Since Published”"
   ]
  },
  {
   "cell_type": "code",
   "execution_count": 78,
   "id": "27d5ed2b",
   "metadata": {},
   "outputs": [
    {
     "name": "stdout",
     "output_type": "stream",
     "text": [
      "Field `days_since_published` present: 1 entries\n",
      "Sample values: [5.0, 69.0, 719.0, 1.0, 5.0, 9.0, 22.0, 56.0, 22.0, 190.0]\n"
     ]
    },
    {
     "data": {
      "image/png": "[encoded data removed]",
      "text/plain": [
       "<Figure size 800x400 with 1 Axes>"
      ]
     },
     "metadata": {},
     "output_type": "display_data"
    },
    {
     "name": "stdout",
     "output_type": "stream",
     "text": [
      "Median days since published: 68\n",
      "Max days since published:   5547\n",
      "Min days since published:   0\n"
     ]
    }
   ],
   "source": [
    "\n",
    "import pandas as pd\n",
    "import matplotlib.pyplot as plt\n",
    "\n",
    "# 1. Load the normalized output\n",
    "df = pd.read_json(\"data/normalized_listings.jsonl\", lines=True)\n",
    "\n",
    "# 2. Inspect the new field\n",
    "print(f\"Field `days_since_published` present: {df.columns.tolist().count('days_since_published')} entries\")\n",
    "print(\"Sample values:\", df[\"days_since_published\"].dropna().head(10).tolist())\n",
    "\n",
    "# 3. Convert to numeric and drop missing\n",
    "days = pd.to_numeric(df[\"days_since_published\"], errors=\"coerce\").dropna()\n",
    "\n",
    "# 4. Plot distribution\n",
    "plt.figure(figsize=(8,4))\n",
    "plt.hist(days, bins=30, edgecolor=\"black\")\n",
    "plt.title(\"Distribution of Days Since Published\")\n",
    "plt.xlabel(\"Days between crawl and publish date\")\n",
    "plt.ylabel(\"Number of listings\")\n",
    "plt.tight_layout()\n",
    "plt.show()\n",
    "\n",
    "# 5. Print summary stats\n",
    "print(\"Median days since published:\", int(days.median()))\n",
    "print(\"Max days since published:  \", int(days.max()))\n",
    "print(\"Min days since published:  \", int(days.min()))\n"
   ]
  },
  {
   "cell_type": "code",
   "execution_count": null,
   "id": "7098dd1b",
   "metadata": {},
   "outputs": [],
   "source": []
  }
 ],
 "metadata": {
  "kernelspec": {
   "display_name": "RE‑Preprocessor",
   "language": "python",
   "name": "realestate-preprocessor"
  },
  "language_info": {
   "codemirror_mode": {
    "name": "ipython",
    "version": 3
   },
   "file_extension": ".py",
   "mimetype": "text/x-python",
   "name": "python",
   "nbconvert_exporter": "python",
   "pygments_lexer": "ipython3",
   "version": "3.13.3"
  }
 },
 "nbformat": 4,
 "nbformat_minor": 5
}
